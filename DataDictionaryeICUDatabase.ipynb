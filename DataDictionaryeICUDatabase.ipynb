{
 "cells": [
  {
   "cell_type": "code",
   "execution_count": 2,
   "id": "bd19a946",
   "metadata": {},
   "outputs": [
    {
     "name": "stderr",
     "output_type": "stream",
     "text": [
      "C:\\Users\\ZbzEs\\AppData\\Local\\Temp\\ipykernel_14144\\1491214745.py:14: DtypeWarning: Columns (6) have mixed types. Specify dtype option on import or set low_memory=False.\n",
      "  df = pd.read_csv(input_path)\n",
      "C:\\Users\\ZbzEs\\AppData\\Local\\Temp\\ipykernel_14144\\1491214745.py:14: DtypeWarning: Columns (4,5,6,12,26,27,28,30,31,32,33) have mixed types. Specify dtype option on import or set low_memory=False.\n",
      "  df = pd.read_csv(input_path)\n"
     ]
    },
    {
     "name": "stdout",
     "output_type": "stream",
     "text": [
      "Files processed and saved successfully.\n"
     ]
    }
   ],
   "source": [
    "import pandas as pd\n",
    "\n",
    "# Define directory paths\n",
    "directory_path = r\"C:\\Users\\ZbzEs\\PythonExcelFiles\"\n",
    "original_folder = f\"{directory_path}\\OriginalFiles\"\n",
    "edited_folder = f\"{directory_path}\\EditedFiles\"\n",
    "\n",
    "# Function to load, replace empty values with 'null', and save edited file\n",
    "def process_csv(file_name):\n",
    "    input_path = f\"{original_folder}\\{file_name}\"\n",
    "    output_path = f\"{edited_folder}\\{file_name.split('.')[0]}_edit.csv\"\n",
    "    \n",
    "    # Load CSV\n",
    "    df = pd.read_csv(input_path)\n",
    "    \n",
    "    # Replace empty or NaN values with 'null'\n",
    "    df = df.fillna('null')\n",
    "    \n",
    "    # Save edited CSV\n",
    "    df.to_csv(output_path, index=False)\n",
    "    \n",
    "    # Unload the DataFrame to free memory\n",
    "    del df\n",
    "\n",
    "# Process each file\n",
    "process_csv('hospital.csv')\n",
    "process_csv('patient.csv')\n",
    "process_csv('respiratoryCharting.csv')\n",
    "process_csv('respiratoryCare.csv')\n",
    "\n",
    "print(\"Files processed and saved successfully.\")\n"
   ]
  },
  {
   "cell_type": "code",
   "execution_count": 3,
   "id": "b4b67d0b",
   "metadata": {},
   "outputs": [
    {
     "name": "stdout",
     "output_type": "stream",
     "text": [
      "Merged file created and saved successfully.\n"
     ]
    }
   ],
   "source": [
    "# Load the edited patient and hospital CSV files\n",
    "patient_df = pd.read_csv(f\"{edited_folder}\\patient_edit.csv\")\n",
    "hospital_df = pd.read_csv(f\"{edited_folder}\\hospital_edit.csv\")\n",
    "\n",
    "# Merge the dataframes on 'hospitalid' column\n",
    "merged_df = pd.merge(patient_df, hospital_df, on='hospitalid', how='left')\n",
    "\n",
    "# Save the merged dataframe\n",
    "merged_output_path = f\"{edited_folder}\\merged_patient_hospital.csv\"\n",
    "merged_df.to_csv(merged_output_path, index=False)\n",
    "\n",
    "print(\"Merged file created and saved successfully.\")\n"
   ]
  },
  {
   "cell_type": "code",
   "execution_count": 4,
   "id": "3a32c61d",
   "metadata": {},
   "outputs": [
    {
     "name": "stdout",
     "output_type": "stream",
     "text": [
      "Columns in patient_edit.csv:\n",
      "['patientunitstayid', 'patienthealthsystemstayid', 'gender', 'age', 'ethnicity', 'hospitalid', 'wardid', 'apacheadmissiondx', 'admissionheight', 'hospitaladmittime24', 'hospitaladmitoffset', 'hospitaladmitsource', 'hospitaldischargeyear', 'hospitaldischargetime24', 'hospitaldischargeoffset', 'hospitaldischargelocation', 'hospitaldischargestatus', 'unittype', 'unitadmittime24', 'unitadmitsource', 'unitvisitnumber', 'unitstaytype', 'admissionweight', 'dischargeweight', 'unitdischargetime24', 'unitdischargeoffset', 'unitdischargelocation', 'unitdischargestatus', 'uniquepid']\n",
      "Columns in hospital_edit.csv:\n",
      "['hospitalid', 'numbedscategory', 'teachingstatus', 'region']\n",
      "Columns in respiratoryCharting_edit.csv:\n",
      "['respchartid', 'patientunitstayid', 'respchartoffset', 'respchartentryoffset', 'respcharttypecat', 'respchartvaluelabel', 'respchartvalue']\n",
      "Columns in respiratoryCare_edit.csv:\n",
      "['respcareid', 'patientunitstayid', 'respcarestatusoffset', 'currenthistoryseqnum', 'airwaytype', 'airwaysize', 'airwayposition', 'cuffpressure', 'ventstartoffset', 'ventendoffset', 'priorventstartoffset', 'priorventendoffset', 'apneaparms', 'lowexhmvlimit', 'hiexhmvlimit', 'lowexhtvlimit', 'hipeakpreslimit', 'lowpeakpreslimit', 'hirespratelimit', 'lowrespratelimit', 'sighpreslimit', 'lowironoxlimit', 'highironoxlimit', 'meanairwaypreslimit', 'peeplimit', 'cpaplimit', 'setapneainterval', 'setapneatv', 'setapneaippeephigh', 'setapnearr', 'setapneapeakflow', 'setapneainsptime', 'setapneaie', 'setapneafio2']\n"
     ]
    }
   ],
   "source": [
    "import pandas as pd\n",
    "# Define the directory path\n",
    "edited_folder = r\"C:\\Users\\ZbzEs\\PythonExcelFiles\\EditedFiles\"\n",
    "# Function to load CSV and display column names\n",
    "def load_and_inspect_csv(file_name):\n",
    "    # Load only the first 5 rows\n",
    "    file_path = f\"{edited_folder}\\{file_name}\"\n",
    "    df = pd.read_csv(file_path, nrows=5)\n",
    "    \n",
    "    # Print the column names\n",
    "    print(f\"Columns in {file_name}:\")\n",
    "    print(df.columns.tolist())\n",
    "# Load and inspect patient_edit.csv\n",
    "load_and_inspect_csv('patient_edit.csv')\n",
    "# Load and inspect hospital_edit.csv\n",
    "load_and_inspect_csv('hospital_edit.csv')\n",
    "# Load and inspect respiratoryCharting_edit.csv\n",
    "load_and_inspect_csv('respiratoryCharting_edit.csv')\n",
    "# Load and inspect respiratoryCare_edit.csv\n",
    "load_and_inspect_csv('respiratoryCare_edit.csv')"
   ]
  },
  {
   "cell_type": "code",
   "execution_count": 5,
   "id": "6e3f5b0e",
   "metadata": {},
   "outputs": [
    {
     "name": "stderr",
     "output_type": "stream",
     "text": [
      "C:\\Users\\ZbzEs\\AppData\\Local\\Temp\\ipykernel_14144\\3754582727.py:8: DtypeWarning: Columns (6) have mixed types. Specify dtype option on import or set low_memory=False.\n",
      "  df = pd.read_csv(file_path)\n"
     ]
    },
    {
     "name": "stdout",
     "output_type": "stream",
     "text": [
      "Column 'respchartid' has 20168176 unique values.\n",
      "Column 'patientunitstayid' has 124598 unique values.\n",
      "Column 'respchartoffset' has 128259 unique values.\n",
      "Column 'respchartentryoffset' has 127359 unique values.\n",
      "Column 'respcharttypecat' has 3 unique values.\n",
      "Unique values in 'respcharttypecat':\n",
      "['respFlowCareData' 'respFlowSettings' 'respFlowPtVentData']\n",
      "----------------------------------------\n",
      "Column 'respchartvaluelabel' has 194 unique values.\n",
      "Unique values in 'respchartvaluelabel':\n",
      "['RT Vent On/Off' 'FiO2' 'Vent Rate' 'Tidal Volume (set)' 'TV/kg IBW'\n",
      " 'Tidal Volume Observed (VT)' 'PEEP' 'Plateau Pressure' 'Pressure Support'\n",
      " 'LPM O2' 'Total RR' 'Pressure Control' 'Peak Insp. Pressure'\n",
      " 'RR (patient)' 'PEEP/CPAP' 'Endotracheal Position at Lip'\n",
      " 'Endotracheal Tube Placement' 'Tube Size' 'Exhaled TV (patient)'\n",
      " 'Mean Airway Pressure' 'Exhaled MV' 'Ventilator Heater Temperature'\n",
      " 'CPAP' 'Head of Bed Elevation' 'SaO2' 'Compliance' 'Flow Sensitivity'\n",
      " 'Exhaled TV (machine)' 'Humidifier Temp' 'Peak Flow'\n",
      " 'Pressure to Trigger PS' 'Head of Bed Elevated'\n",
      " 'Minute Volume, Spontaneous' 'Inspiratory Pressure, Set'\n",
      " 'Inspiratory Flow Rate' 'Tidal Volume, Delivered' 'Resp Rate Total'\n",
      " 'Exhaled Vt' 'Measured Ve' 'Wake up assessment performed'\n",
      " 'Wake up assessment interventions' 'WUA Patient Response/RASS Score'\n",
      " 'Sedation outcome' 'Spont TV' 'SBT Method' 'O2 Device' 'FIO2 (%)'\n",
      " 'Total RSBI' 'Insp Flow (l/min)' 'RETIRED O2 Device' 'Secured at-ETT '\n",
      " 'PULSE OX RESULTS VT' 'PD I:E RATIO' 'VS RESP RATE' 'AIRWAY TEMPERATURE'\n",
      " 'HR Post' 'HR' 'EtCO2' 'ETCO2' 'O2 Percentage' 'f Total'\n",
      " 'Set Vt (Servo,LTV)' 'Set Vt (Drager)' 'DABP' 'A1: High Exhaled Vt'\n",
      " 'B3: Est Mask Leak' 'B1: IPAP' 'B2: EPAP' '5. ARDS Eval (M or DNM)'\n",
      " '4. RSBI (RR/Vt)' 'Skin Integrity' 'EPAP' 'IPAP' 'Bipap Delivery Mode'\n",
      " 'Cough Description' 'Breath Sounds' 'Lung Sound Location'\n",
      " 'Lung Sound Location Modifier' 'Patient Leak'\n",
      " 'Non-invasive Ventilation Mode' 'Lung Sound Respiratory Phase' 'Rise'\n",
      " 'Mechanical Ventilator High Tidal Volume Alarm' 'V60 Mask Leak Value'\n",
      " 'Oxygen Delivery Method' 'Oxygen Flow Rate'\n",
      " 'Mechanical Ventilator Compliance'\n",
      " 'Set Fraction of Inspired Oxygen (FIO2)'\n",
      " 'Endotracheal Tube Placement Checked' 'Heat Moisture Exchanger'\n",
      " 'Autoflow' 'Minute Volume Leak' 'Mechanical Ventilation Slope'\n",
      " 'Respiratory Phase' 'Mechanical Ventilator Resistance' 'Sputum Amount'\n",
      " 'Sputum Color' 'Sputum Consistency' 'Automatic Tube Compensation'\n",
      " 'Flowtrigger' 'Sigh' 'Ventilator Population' 'Trapped Volume'\n",
      " 'Endotracheal Tube Moved to' 'HOB Elevated 30-45 Degrees at All Times'\n",
      " 'DVT Prophylaxis' 'Oral Care Complete Every 2 Hours'\n",
      " 'ETT Peptic Ulcer Prophylaxis' 'ETT Sedation Vacation'\n",
      " 'Weaning Assessment Criteria Collaboration' 'Mechanical Ventilator Mode'\n",
      " 'CCU Ventilator Weaning Protocol Started' 'Sedation Wean'\n",
      " 'Chest Tube Insertion Status' 'Oxygen Delivery Status'\n",
      " 'End Tidal CO2 Status' 'Respiratory Device' 'Type of Treatment'\n",
      " 'Auto Release' 'Apnea Ventilation' 'Volume Guarantee' 'Ventilator Type'\n",
      " 'Ventilator Support Mode' 'Trigger' 'Base Flow' 'Backup Vent Active'\n",
      " 'Peak Pressure' 'RSBI' 'Static Compliance' 'Humidity'\n",
      " 'ET Tube Repositioned' 'Secured by' 'Position at lip' 'Patient Position'\n",
      " 'Suctioned patient' 'Ventilator Checks' 'Spontaneous Respiratory Rate'\n",
      " 'Unable to Obtain PEEPi and Vtrap' 'Postion at Lip' 'Care'\n",
      " 'Sedation Scoring Ventilation Depth' 'Trachestomy Tube Size'\n",
      " 'Tube Feedings on Hold' 'Chest Tube Position' 'Chest Tube Location'\n",
      " 'Chest Tube Label' 'Airway Attachments' 'Tracheostomy Type'\n",
      " 'Unit of Measure' 'Chest Tube Drainage Color' 'Chest Tube Care'\n",
      " 'Chest Tube Description/Status' 'Chest Tube Suction Type'\n",
      " 'Chest Tube Suction Amount' 'Chest Tube Size' 'NIV Setting EPAP'\n",
      " 'Adult Con Setting Set RR' 'Adult Con Setting Set Vt'\n",
      " 'Adult Con Pt/Vent Spont Rate' 'Adult Con Pt/Vent MinuteVentil'\n",
      " 'Adult Con Pt/Vent InspiratorTV' 'NIV Pt/Vent Spont_Rate'\n",
      " 'Adult Con Alarms Hi Press Alarm' 'Adult Con Alarms Circuit T (Celsius)'\n",
      " 'NIV Alarms Hi Press Alarm_5' 'NIV Alarms Low Press Alarm'\n",
      " 'Adult Con Pt/Vent IBW in Kg' 'Vti' 'MVe' 'Minute Ventilation Set(L/min)'\n",
      " 'Adult Con Pt/Vent ETCO2' 'PS above PEEP' 'RR Spont' 'Insp Cycle Off (%)'\n",
      " 'Adult Con Pt/Vent SpO2' 'PS' 'Adult Con Setting Heliox_'\n",
      " 'Adult Con Setting INO' 'Insp Time (%)' 'Adult Con Alarms Backup PC'\n",
      " 'Adult Con Alarms Backup RR' 'Adult Con Alarms Backup I:E'\n",
      " 'Adult Con Setting Spont Exp Vt' 'NIV Pt/Vent Spont_TidalV'\n",
      " 'Adult Con Pt/Vent ETCO2_' 'Backup RR (Set)' 'Backup IInsp Time (sec)'\n",
      " 'NIV Pt/Vent SpO2_5' 'NIV Setting Set_RR' 'Rise T' 'Vt Spontaneous (mL)'\n",
      " 'NIV Setting Total RR_5' 'NIV Setting Spont Exp Vt_5' 'NIV Setting Leak_']\n",
      "----------------------------------------\n",
      "Column 'respchartvalue' has 19507 unique values.\n"
     ]
    }
   ],
   "source": [
    "import pandas as pd\n",
    "# Define the directory path\n",
    "edited_folder = r\"C:\\Users\\ZbzEs\\PythonExcelFiles\\EditedFiles\"\n",
    "# Function to inspect unique values in columns and print if less than 250\n",
    "def inspect_unique_values(file_name):\n",
    "    # Load the full CSV\n",
    "    file_path = f\"{edited_folder}\\{file_name}\"\n",
    "    df = pd.read_csv(file_path)\n",
    "    \n",
    "    # Iterate through each column\n",
    "    for column in df.columns:\n",
    "        unique_values = df[column].unique()\n",
    "        num_unique = len(unique_values)\n",
    "        \n",
    "        print(f\"Column '{column}' has {num_unique} unique values.\")\n",
    "        \n",
    "        # If there are fewer than 250 unique values, print them\n",
    "        if num_unique < 250:\n",
    "            print(f\"Unique values in '{column}':\")\n",
    "            print(unique_values)\n",
    "            print('-' * 40)\n",
    "# Inspect unique values in respiratoryCharting_edit.csv\n",
    "inspect_unique_values('respiratoryCharting_edit.csv')"
   ]
  },
  {
   "cell_type": "code",
   "execution_count": 7,
   "id": "a5c2d8f2",
   "metadata": {},
   "outputs": [
    {
     "name": "stderr",
     "output_type": "stream",
     "text": [
      "C:\\Users\\ZbzEs\\AppData\\Local\\Temp\\ipykernel_14144\\2022607950.py:10: DtypeWarning: Columns (6) have mixed types. Specify dtype option on import or set low_memory=False.\n",
      "  df = pd.read_csv(file_path)\n"
     ]
    },
    {
     "name": "stdout",
     "output_type": "stream",
     "text": [
      "Number of numeric values: 18999358\n",
      "Number of non-numeric values: 1168818\n",
      "Examples of non-numeric values:\n",
      "['Continued' 'Off' 'Start' 'Suspended' 'off' 'Oral Endotracheal'\n",
      " 'Tracheostomy' 'High/ Low' 'Yes' 'No']\n"
     ]
    }
   ],
   "source": [
    "import pandas as pd\n",
    "import numpy as np\n",
    "import re\n",
    "\n",
    "# Define the directory path\n",
    "edited_folder = r\"C:\\Users\\ZbzEs\\PythonExcelFiles\\EditedFiles\"\n",
    "\n",
    "# Load the respiratoryCharting_edit.csv file\n",
    "file_path = f\"{edited_folder}\\\\respiratoryCharting_edit.csv\"\n",
    "df = pd.read_csv(file_path)\n",
    "\n",
    "# Function to check if a value is numeric (including integers and floats)\n",
    "def is_numeric(value):\n",
    "    # Check if the value can be cast to a float (allows numbers like 123, 123.45, -123.45, etc.)\n",
    "    try:\n",
    "        float(value)\n",
    "        return True\n",
    "    except ValueError:\n",
    "        return False\n",
    "\n",
    "# Apply the function to the 'respchartvalue' column\n",
    "df['is_numeric'] = df['respchartvalue'].apply(is_numeric)\n",
    "\n",
    "# Count how many values are numbers and how many are not\n",
    "num_numeric = df['is_numeric'].sum()\n",
    "num_non_numeric = len(df) - num_numeric\n",
    "\n",
    "# Print the results\n",
    "print(f\"Number of numeric values: {num_numeric}\")\n",
    "print(f\"Number of non-numeric values: {num_non_numeric}\")\n",
    "\n",
    "# Optionally, print out a few examples of non-numeric values\n",
    "non_numeric_values = df[df['is_numeric'] == False]['respchartvalue'].unique()\n",
    "print(\"Examples of non-numeric values:\")\n",
    "print(non_numeric_values[:10])  # Print first 10 examples of non-numeric values\n"
   ]
  },
  {
   "cell_type": "code",
   "execution_count": 9,
   "id": "01ef2b05",
   "metadata": {},
   "outputs": [
    {
     "name": "stderr",
     "output_type": "stream",
     "text": [
      "C:\\Users\\ZbzEs\\AppData\\Local\\Temp\\ipykernel_14144\\207652817.py:9: DtypeWarning: Columns (6) have mixed types. Specify dtype option on import or set low_memory=False.\n",
      "  df = pd.read_csv(file_path)\n"
     ]
    },
    {
     "name": "stdout",
     "output_type": "stream",
     "text": [
      "Updated dataframe with new columns saved to C:\\Users\\ZbzEs\\PythonExcelFiles\\EditedFiles\\respiratoryCharting_split.csv\n"
     ]
    }
   ],
   "source": [
    "import pandas as pd\n",
    "import numpy as np\n",
    "\n",
    "# Define the directory path with raw string to avoid escape sequence issues\n",
    "edited_folder = r\"C:\\Users\\ZbzEs\\PythonExcelFiles\\EditedFiles\"\n",
    "\n",
    "# Load the respiratoryCharting_edit.csv file\n",
    "file_path = f\"{edited_folder}\\\\respiratoryCharting_edit.csv\"\n",
    "df = pd.read_csv(file_path)\n",
    "\n",
    "# Function to check if a value is numeric\n",
    "def is_numeric(value):\n",
    "    try:\n",
    "        return float(value)\n",
    "    except ValueError:\n",
    "        return np.nan\n",
    "\n",
    "# Create 'respchartvaluenum' for numeric values\n",
    "df['respchartvaluenum'] = df['respchartvalue'].apply(is_numeric)\n",
    "\n",
    "# Create 'respchartvaluetext' for non-numeric values\n",
    "df['respchartvaluetext'] = df.apply(lambda row: row['respchartvalue'] if pd.isna(row['respchartvaluenum']) else np.nan, axis=1)\n",
    "\n",
    "# Save the updated dataframe\n",
    "output_path = f\"{edited_folder}\\\\respiratoryCharting_split.csv\"\n",
    "df.to_csv(output_path, index=False)\n",
    "\n",
    "print(f\"Updated dataframe with new columns saved to {output_path}\")\n"
   ]
  },
  {
   "cell_type": "code",
   "execution_count": 11,
   "id": "ca775972",
   "metadata": {},
   "outputs": [
    {
     "name": "stderr",
     "output_type": "stream",
     "text": [
      "C:\\Users\\ZbzEs\\AppData\\Local\\Temp\\ipykernel_14144\\2788338687.py:9: DtypeWarning: Columns (6,8) have mixed types. Specify dtype option on import or set low_memory=False.\n",
      "  df = pd.read_csv(file_path)\n"
     ]
    },
    {
     "name": "stdout",
     "output_type": "stream",
     "text": [
      "Number of unique non-numeric values: 404\n",
      "Unique non-numeric values:\n",
      "['Continued' 'Off' 'Start' 'Suspended' 'off' 'Oral Endotracheal'\n",
      " 'Tracheostomy' 'High/ Low' 'Yes' 'No' 'Contra' '30%' '40%' '28%' '25%'\n",
      " '21%' '100%' '35%' '60%' '50%' '80%' '70%' '90%'\n",
      " 'Continuous medications turned off' 'Maintained medications at 50%'\n",
      " 'Sedation medications turned off' 'CPAP 5 cm H20 and PS 5 cm H20'\n",
      " 'Continuous medications reduced by 50%' 'Resumed medications at 50%'\n",
      " 'Sedation decreased 50%' 'Not indicated / Contraindicated'\n",
      " 'Resumed medications at 100%;Bolus given' 'Resumed medications at 100%'\n",
      " 'Patient not receiving any sedation - unresponsive to stimuli'\n",
      " 'Sedation remains off'\n",
      " 'Patient on intermittent sedation (Comment on last dose given)'\n",
      " 'T-Bar/T-Collar' 'Bolus given' 'Bolus given;Resumed medications at 100%'\n",
      " 'Maintained medications at 50%;Bolus given'\n",
      " 'Sedation remains off;Resumed medications at 100%'\n",
      " 'Resumed medications at 50%;Bolus given'\n",
      " 'Maintained medications at 50%;Resumed medications at 100%;Bolus given'\n",
      " 'Bolus given;Resumed medications at 50%'\n",
      " 'Resumed medications at 50%;Maintained medications at 50%'\n",
      " 'T-Bar/T-Collar;CPAP 5 cm H20 and PS 5 cm H20'\n",
      " 'Sedation remains off;Bolus given'\n",
      " 'Resumed medications at 50%;Resumed medications at 100%'\n",
      " 'CPAP 5 cm H20 and PS 5 cm H20;T-Bar/T-Collar'\n",
      " 'Bolus given;Maintained medications at 50%' 'Nasal cannula'\n",
      " 'High flow nasal cannula' 'Ventilator' 'Oxyhood'\n",
      " 'Heated high flow nasal cannula' 'None (Room air)' 'Bi-PAP' 'ETT'\n",
      " 'Trach mask/collar' 'Face mask' 'Ambubag' 'Aerosol mask' 'CPAP'\n",
      " 'Non-rebreather mask' 'Other (Comment)' 'Venturi mask' 'High flow mask'\n",
      " 'T-Piece' 'Simple mask' 'Face tent' 'Blow-by' 'hme' 'HME' 'me' '0100%'\n",
      " 'he' 'min' 'hm3' 'hne' 'HEM' 'hem' 'MHE' 'M' 'no abg' 'DNM' 'no new abg'\n",
      " 'm' 'Meets' 'dnm' 'meets' '65%' '45%' '55%' '75%' 'does not meet'\n",
      " 'intact' '400%' '10%' 'good' 'good-intact' '85%' 'Facial BiPAP Mask'\n",
      " 'No cough' 'Wheezes' 'Throughout' 'Anterior' 'S/T' 'Expiratory'\n",
      " 'Room air' 'Diminished' 'Suctioned' 'Y' 'Teeth'\n",
      " 'Inspiratory & expiratory' 'Small' 'Pale yellow' 'Thick'\n",
      " 'Strong non-productive' 'Right mouth' 'Mechanical ventilator' 'N'\n",
      " 'AC/CMV' 'Inserted in OR' 'In Place' 'Not applicable' 'Clear' 'Standard'\n",
      " 'Scant' 'Left mouth' 'Galileo 1' 'CMV' 'Flow' 'Adjustable ETT Holder'\n",
      " 'Intact' 'Elevated head of bed' 'Creamy' 'Ambu Bag/Mask at Bedside'\n",
      " 'MLT/MOV' 'Facial BiPAP mask' 'Posterior' 'BiPAP' 'None'\n",
      " 'Center of mouth' 'Crackles' 'Bilateral bases' 'SIMV' 'Tube secure' 'Lip'\n",
      " 'Normal' 'T-piece' 'Coarse' 'Left' 'Anterior Chest' 'White' 'Thin'\n",
      " 'Mediastinal' '#2' 'Cuff inflated' 'Cuffed' 'HFNC' 'Loose non-productive'\n",
      " 'Productive' 'Large' 'Mucoid' 'Tan' 'cmH2O' 'Moderate' 'Maintained'\n",
      " 'Trach mask' 'Trach collar' 'Sanguinous' 'Tubing secured' 'No air leak'\n",
      " 'Lateral Chest' 'Right' 'Wall suction' 'Inspiratory & Expiratory'\n",
      " 'Refused after education' 'Gum' 'Nasal BiPAP mask' 'G5' 'Inspiratory'\n",
      " 'Non-rebreather' 'Bloody' 'Anterior chest' 'Bilateral upper lobes'\n",
      " 'Decreased' 'Stoma' 'Cloudy' 'Occasional' 'Serosanguinous'\n",
      " 'Right Upper Lobe' 'Right upper' 'Lateral chest' 'Air leak'\n",
      " 'Crepitus/SQ emphysema' 'Present on admission' 'Shallow' 'Cuff deflated'\n",
      " 'Right middle lobe' 'Yellow' 'Patent' 'Applied' 'Serous' 'APV' 'Two'\n",
      " 'Scattered' 'Three' 'Increased' 'Left #3' '10-Red (blood)' 'Lateral'\n",
      " 'Nasal pillows' 'Concha' 'CT #2' 'Lower' 'Spontaneous' 'Gray' 'Dry'\n",
      " '13-Tan' 'Frothy' 'Not Intact' 'Water Level Adequate' 'Upper' 'TWO'\n",
      " 'Reported,not observed' 'Collection system changed' '1- in pleural space'\n",
      " 'ETT placement changed' 'Nasal BiPAP Mask' 'Left upper lobe'\n",
      " 'Pink tinged' 'Water level adjusted' 'Copious' 'Bubbling' 'Red specks'\n",
      " 'Fluctuation' 'Mid-clavicular chest' '#3' 'Left naris' 'Absent'\n",
      " 'Left lower lobe' 'Removed' 'Brown' 'ETT Holder Stationary'\n",
      " 'Refused to cough' 'Discontinued' 'ETT placement checked' 'Venturi'\n",
      " 'Inserted in ED' '11-Red Specks' 'Mid-axillary chest'\n",
      " 'Weak non-productive' 'CT  #2' 'Inserted at bedside' 'Double lumen'\n",
      " 'Pressure' 'Flat' 'Breath sounds assessed' 'Stridor' 'Initiated'\n",
      " 'Right lower lobe' 'Left lower' 'Productive, swallowed' 'Water Changed'\n",
      " 'PLEURAL' 'Deep' 'Wet' 'Right Lower' 'Paroxysmal' 'Green' 'Pleural  tube'\n",
      " 'mmHg' 'In-Line Catheter Changed' 'Obstructed-support needed'\n",
      " 'High Flow Nasal Cannula' '#4' 'AVAPS' 'Continuous 1st hour'\n",
      " 'Right upper lobe' 'ONE' 'Blowby' 'Right Upper' 'Posterior Chest'\n",
      " 'Pale Yellow' '#1 &#2' 'Straw' 'Bilateral Bases' 'Rust' '# 2' 'Chair'\n",
      " 'Right lower' 'Left upper' 'Productive/Swallowed' 'Moist' 'Tight' 'One'\n",
      " 'Dressing changed' 'Clamped' 'Black' 'Single lumen' 'Long' 'PS'\n",
      " 'HEIMLICK VALVE' 'Posterior chest' 'Bronchial blocker'\n",
      " 'Right Middle Lobe' 'Squeak' 'LTV1200' 'Trendelenberg' 'Bronchial'\n",
      " 'Tenacious' 'Left Upper Lobe' 'SIMV+' '10-Circuit Changed'\n",
      " 'Inserted in Cath Lab' 'Purulent' 'Fine' 'Rhonchi'\n",
      " 'Cuff pressure checked' 'Mucoid Plug' 'Patient refused'\n",
      " 'Resuscitation bag' 'Inserted in Med Imaging' 'Left Lower Lobe' 'Left-#3'\n",
      " 'Uncuffed' 'Red Specks' 'CT#2' 'PCV w/assist' 'Frequent' 'HME Changed'\n",
      " '#1' 'Right naris' 'Venturi Mask' 'Bilateral Upper lobes' 'Refused'\n",
      " 'Continuous additional hr' 'Pressure control' 'Venti Mask' 'Barky' 'APRV'\n",
      " 'Minimal Leak' 'DISCONTINUED' 'Documentation undone' 'Pleural tube'\n",
      " 'Left Upper' 'Discontinued/Removed' 'Bright red' 'Partial obstruction'\n",
      " 'Ambu bag' 'Right Lower Lobe' 'Musical' 'Auto-infuser' 'no' '1:3.3'\n",
      " '1:3.4' '1:3' 'NO' 'NOI' '1:2' '1:5' '<4>' '(4)' '1:3.0' '1.3.4' '1:2.8'\n",
      " '1:4.5' '1:3.7' '82%' '20PPM' '78%' 'HMEe' '10 ppm' '-HME' 'HFNC 80% 20L'\n",
      " '<16>' '20ppm' '.' '15PPM' '0 ppm' '1;3.4' 'pc' '1:6' '10PPM' 'HNE'\n",
      " '(16)' '1:5.6' 'NEW' 'o' '1:4' '96%' '80/20' 'N A' '98%' '93%' '2LPM NC'\n",
      " '97%' 'OFF' 'prvc/simv' '1 :3.4' '5PPM' 'NoO' '8-']\n"
     ]
    }
   ],
   "source": [
    "import pandas as pd\n",
    "import numpy as np\n",
    "\n",
    "# Define the directory path with raw string to avoid escape sequence issues\n",
    "edited_folder = r\"C:\\Users\\ZbzEs\\PythonExcelFiles\\EditedFiles\"\n",
    "\n",
    "# Load the respiratoryCharting_updated.csv file\n",
    "file_path = f\"{edited_folder}\\\\respiratoryCharting_split.csv\"\n",
    "df = pd.read_csv(file_path)\n",
    "\n",
    "# Drop any rows where 'respchartvaluetext' is NaN (these are the rows with numeric values)\n",
    "non_numeric_values = df['respchartvaluetext'].dropna().unique()\n",
    "\n",
    "# Count the number of unique non-numeric values\n",
    "num_non_numeric = len(non_numeric_values)\n",
    "\n",
    "# Print the number of unique non-numeric values\n",
    "print(f\"Number of unique non-numeric values: {num_non_numeric}\")\n",
    "\n",
    "# If there are fewer than 250 unique non-numeric values, print them\n",
    "if num_non_numeric < 450:\n",
    "    print(\"Unique non-numeric values:\")\n",
    "    print(non_numeric_values)\n"
   ]
  },
  {
   "cell_type": "code",
   "execution_count": 12,
   "id": "1911811f",
   "metadata": {},
   "outputs": [
    {
     "name": "stderr",
     "output_type": "stream",
     "text": [
      "C:\\Users\\ZbzEs\\AppData\\Local\\Temp\\ipykernel_14144\\1248428677.py:8: DtypeWarning: Columns (6,8) have mixed types. Specify dtype option on import or set low_memory=False.\n",
      "  df = pd.read_csv(file_path)\n"
     ]
    },
    {
     "data": {
      "text/plain": [
       "'C:\\\\Users\\\\ZbzEs\\\\PythonExcelFiles\\\\EditedFiles\\\\non_numeric_values.csv'"
      ]
     },
     "execution_count": 12,
     "metadata": {},
     "output_type": "execute_result"
    }
   ],
   "source": [
    "import pandas as pd\n",
    "\n",
    "# Define the directory path with raw string to avoid escape sequence issues\n",
    "edited_folder = r\"C:\\Users\\ZbzEs\\PythonExcelFiles\\EditedFiles\"\n",
    "\n",
    "# Load the respiratoryCharting_updated.csv file\n",
    "file_path = f\"{edited_folder}\\\\respiratoryCharting_split.csv\"\n",
    "df = pd.read_csv(file_path)\n",
    "\n",
    "# Drop any rows where 'respchartvaluetext' is NaN (these are the rows with numeric values)\n",
    "non_numeric_values = df['respchartvaluetext'].dropna().unique()\n",
    "\n",
    "# Convert the non-numeric values into a dataframe with a single column\n",
    "non_numeric_df = pd.DataFrame(non_numeric_values, columns=['non_numeric_values'])\n",
    "\n",
    "# Save the non-numeric values to a CSV for inspection\n",
    "output_file_path = f\"{edited_folder}\\\\non_numeric_values.csv\"\n",
    "non_numeric_df.to_csv(output_file_path, index=False)\n",
    "\n",
    "output_file_path\n"
   ]
  },
  {
   "cell_type": "code",
   "execution_count": 17,
   "id": "f13cb1aa",
   "metadata": {},
   "outputs": [
    {
     "name": "stderr",
     "output_type": "stream",
     "text": [
      "C:\\Users\\ZbzEs\\AppData\\Local\\Temp\\ipykernel_14144\\2592120550.py:8: DtypeWarning: Columns (6,8) have mixed types. Specify dtype option on import or set low_memory=False.\n",
      "  df = pd.read_csv(file_path)\n"
     ]
    },
    {
     "data": {
      "text/plain": [
       "'C:\\\\Users\\\\ZbzEs\\\\PythonExcelFiles\\\\EditedFiles\\\\sorted_non_numeric_combinations_with_frequency.csv'"
      ]
     },
     "execution_count": 17,
     "metadata": {},
     "output_type": "execute_result"
    }
   ],
   "source": [
    "import pandas as pd\n",
    "\n",
    "# Define the directory path\n",
    "edited_folder = r\"C:\\Users\\ZbzEs\\PythonExcelFiles\\EditedFiles\"\n",
    "\n",
    "# Load the correct CSV file (replace with the actual file name)\n",
    "file_path = f\"{edited_folder}\\\\respiratoryCharting_split.csv\"\n",
    "df = pd.read_csv(file_path)\n",
    "\n",
    "# Filter rows where 'respchartvaluetext' is not NaN\n",
    "non_numeric_df = df[df['respchartvaluetext'].notna()]\n",
    "\n",
    "# Group by 'respchartvaluetext', 'respchartvaluelabel', and 'respcharttypecat' and count occurrences\n",
    "combinations_df = non_numeric_df.groupby(['respchartvaluetext', 'respchartvaluelabel', 'respcharttypecat']).size().reset_index(name='frequency')\n",
    "\n",
    "# Sort by 'respcharttypecat' first (A-Z), then 'respchartvaluelabel' secondarily\n",
    "sorted_combinations_df = combinations_df.sort_values(by=['respcharttypecat', 'respchartvaluelabel'])\n",
    "\n",
    "# Save the sorted combinations with frequency to a CSV file for inspection\n",
    "output_file_path = f\"{edited_folder}\\\\sorted_non_numeric_combinations_with_frequency.csv\"\n",
    "sorted_combinations_df.to_csv(output_file_path, index=False)\n",
    "\n",
    "output_file_path\n"
   ]
  },
  {
   "cell_type": "code",
   "execution_count": 18,
   "id": "66e2403d",
   "metadata": {},
   "outputs": [
    {
     "name": "stderr",
     "output_type": "stream",
     "text": [
      "C:\\Users\\ZbzEs\\AppData\\Local\\Temp\\ipykernel_14144\\3695340190.py:10: DtypeWarning: Columns (6,8) have mixed types. Specify dtype option on import or set low_memory=False.\n",
      "  df = pd.read_csv(file_path)\n"
     ]
    },
    {
     "name": "stdout",
     "output_type": "stream",
     "text": [
      "Updated CSV saved to: C:\\Users\\ZbzEs\\PythonExcelFiles\\EditedFiles\\respiratoryCharting_split_updated.csv\n"
     ]
    }
   ],
   "source": [
    "import pandas as pd\n",
    "import numpy as np\n",
    "import re\n",
    "\n",
    "# Define the directory path\n",
    "edited_folder = r\"C:\\Users\\ZbzEs\\PythonExcelFiles\\EditedFiles\"\n",
    "\n",
    "# Load the respiratoryCharting_split.csv file\n",
    "file_path = f\"{edited_folder}\\\\respiratoryCharting_split.csv\"\n",
    "df = pd.read_csv(file_path)\n",
    "\n",
    "# Function to detect and convert percentages in text\n",
    "def convert_percentage_to_decimal(value):\n",
    "    # Check if the value contains a percentage symbol (e.g., \"50%\")\n",
    "    if isinstance(value, str) and '%' in value:\n",
    "        try:\n",
    "            # Extract the number and divide by 100 to convert to decimal\n",
    "            return float(value.replace('%', '')) / 100\n",
    "        except ValueError:\n",
    "            return np.nan\n",
    "    return np.nan\n",
    "\n",
    "# Apply the percentage conversion function to the 'respchartvaluetext' column\n",
    "df['converted_percentage'] = df['respchartvaluetext'].apply(convert_percentage_to_decimal)\n",
    "\n",
    "# Move the converted percentage to 'respchartvaluenum' if it exists\n",
    "df['respchartvaluenum'] = df.apply(\n",
    "    lambda row: row['converted_percentage'] if not pd.isna(row['converted_percentage']) else row['respchartvaluenum'], axis=1\n",
    ")\n",
    "\n",
    "# Clear the 'respchartvaluetext' for rows where percentage was converted\n",
    "df['respchartvaluetext'] = df.apply(\n",
    "    lambda row: np.nan if not pd.isna(row['converted_percentage']) else row['respchartvaluetext'], axis=1\n",
    ")\n",
    "\n",
    "# Drop the temporary 'converted_percentage' column\n",
    "df.drop(columns=['converted_percentage'], inplace=True)\n",
    "\n",
    "# Save the updated dataframe\n",
    "output_file_path = f\"{edited_folder}\\\\respiratoryCharting_split_updated.csv\"\n",
    "df.to_csv(output_file_path, index=False)\n",
    "\n",
    "print(f\"Updated CSV saved to: {output_file_path}\")\n",
    "\n",
    "#took like 10 minutes for some reason"
   ]
  },
  {
   "cell_type": "code",
   "execution_count": 19,
   "id": "20e04b7c",
   "metadata": {},
   "outputs": [
    {
     "name": "stderr",
     "output_type": "stream",
     "text": [
      "C:\\Users\\ZbzEs\\AppData\\Local\\Temp\\ipykernel_14144\\281212097.py:9: DtypeWarning: Columns (6,8) have mixed types. Specify dtype option on import or set low_memory=False.\n",
      "  df = pd.read_csv(file_path)\n"
     ]
    },
    {
     "name": "stdout",
     "output_type": "stream",
     "text": [
      "Number of unique non-numeric values: 378\n",
      "Unique non-numeric values:\n",
      "['Continued' 'Off' 'Start' 'Suspended' 'off' 'Oral Endotracheal'\n",
      " 'Tracheostomy' 'High/ Low' 'Yes' 'No' 'Contra'\n",
      " 'Continuous medications turned off' 'Maintained medications at 50%'\n",
      " 'Sedation medications turned off' 'CPAP 5 cm H20 and PS 5 cm H20'\n",
      " 'Continuous medications reduced by 50%' 'Resumed medications at 50%'\n",
      " 'Sedation decreased 50%' 'Not indicated / Contraindicated'\n",
      " 'Resumed medications at 100%;Bolus given' 'Resumed medications at 100%'\n",
      " 'Patient not receiving any sedation - unresponsive to stimuli'\n",
      " 'Sedation remains off'\n",
      " 'Patient on intermittent sedation (Comment on last dose given)'\n",
      " 'T-Bar/T-Collar' 'Bolus given' 'Bolus given;Resumed medications at 100%'\n",
      " 'Maintained medications at 50%;Bolus given'\n",
      " 'Sedation remains off;Resumed medications at 100%'\n",
      " 'Resumed medications at 50%;Bolus given'\n",
      " 'Maintained medications at 50%;Resumed medications at 100%;Bolus given'\n",
      " 'Bolus given;Resumed medications at 50%'\n",
      " 'Resumed medications at 50%;Maintained medications at 50%'\n",
      " 'T-Bar/T-Collar;CPAP 5 cm H20 and PS 5 cm H20'\n",
      " 'Sedation remains off;Bolus given'\n",
      " 'Resumed medications at 50%;Resumed medications at 100%'\n",
      " 'CPAP 5 cm H20 and PS 5 cm H20;T-Bar/T-Collar'\n",
      " 'Bolus given;Maintained medications at 50%' 'Nasal cannula'\n",
      " 'High flow nasal cannula' 'Ventilator' 'Oxyhood'\n",
      " 'Heated high flow nasal cannula' 'None (Room air)' 'Bi-PAP' 'ETT'\n",
      " 'Trach mask/collar' 'Face mask' 'Ambubag' 'Aerosol mask' 'CPAP'\n",
      " 'Non-rebreather mask' 'Other (Comment)' 'Venturi mask' 'High flow mask'\n",
      " 'T-Piece' 'Simple mask' 'Face tent' 'Blow-by' 'hme' 'HME' 'me' 'he' 'min'\n",
      " 'hm3' 'hne' 'HEM' 'hem' 'MHE' 'M' 'no abg' 'DNM' 'no new abg' 'm' 'Meets'\n",
      " 'dnm' 'meets' 'does not meet' 'intact' 'good' 'good-intact'\n",
      " 'Facial BiPAP Mask' 'No cough' 'Wheezes' 'Throughout' 'Anterior' 'S/T'\n",
      " 'Expiratory' 'Room air' 'Diminished' 'Suctioned' 'Y' 'Teeth'\n",
      " 'Inspiratory & expiratory' 'Small' 'Pale yellow' 'Thick'\n",
      " 'Strong non-productive' 'Right mouth' 'Mechanical ventilator' 'N'\n",
      " 'AC/CMV' 'Inserted in OR' 'In Place' 'Not applicable' 'Clear' 'Standard'\n",
      " 'Scant' 'Left mouth' 'Galileo 1' 'CMV' 'Flow' 'Adjustable ETT Holder'\n",
      " 'Intact' 'Elevated head of bed' 'Creamy' 'Ambu Bag/Mask at Bedside'\n",
      " 'MLT/MOV' 'Facial BiPAP mask' 'Posterior' 'BiPAP' 'None'\n",
      " 'Center of mouth' 'Crackles' 'Bilateral bases' 'SIMV' 'Tube secure' 'Lip'\n",
      " 'Normal' 'T-piece' 'Coarse' 'Left' 'Anterior Chest' 'White' 'Thin'\n",
      " 'Mediastinal' '#2' 'Cuff inflated' 'Cuffed' 'HFNC' 'Loose non-productive'\n",
      " 'Productive' 'Large' 'Mucoid' 'Tan' 'cmH2O' 'Moderate' 'Maintained'\n",
      " 'Trach mask' 'Trach collar' 'Sanguinous' 'Tubing secured' 'No air leak'\n",
      " 'Lateral Chest' 'Right' 'Wall suction' 'Inspiratory & Expiratory'\n",
      " 'Refused after education' 'Gum' 'Nasal BiPAP mask' 'G5' 'Inspiratory'\n",
      " 'Non-rebreather' 'Bloody' 'Anterior chest' 'Bilateral upper lobes'\n",
      " 'Decreased' 'Stoma' 'Cloudy' 'Occasional' 'Serosanguinous'\n",
      " 'Right Upper Lobe' 'Right upper' 'Lateral chest' 'Air leak'\n",
      " 'Crepitus/SQ emphysema' 'Present on admission' 'Shallow' 'Cuff deflated'\n",
      " 'Right middle lobe' 'Yellow' 'Patent' 'Applied' 'Serous' 'APV' 'Two'\n",
      " 'Scattered' 'Three' 'Increased' 'Left #3' '10-Red (blood)' 'Lateral'\n",
      " 'Nasal pillows' 'Concha' 'CT #2' 'Lower' 'Spontaneous' 'Gray' 'Dry'\n",
      " '13-Tan' 'Frothy' 'Not Intact' 'Water Level Adequate' 'Upper' 'TWO'\n",
      " 'Reported,not observed' 'Collection system changed' '1- in pleural space'\n",
      " 'ETT placement changed' 'Nasal BiPAP Mask' 'Left upper lobe'\n",
      " 'Pink tinged' 'Water level adjusted' 'Copious' 'Bubbling' 'Red specks'\n",
      " 'Fluctuation' 'Mid-clavicular chest' '#3' 'Left naris' 'Absent'\n",
      " 'Left lower lobe' 'Removed' 'Brown' 'ETT Holder Stationary'\n",
      " 'Refused to cough' 'Discontinued' 'ETT placement checked' 'Venturi'\n",
      " 'Inserted in ED' '11-Red Specks' 'Mid-axillary chest'\n",
      " 'Weak non-productive' 'CT  #2' 'Inserted at bedside' 'Double lumen'\n",
      " 'Pressure' 'Flat' 'Breath sounds assessed' 'Stridor' 'Initiated'\n",
      " 'Right lower lobe' 'Left lower' 'Productive, swallowed' 'Water Changed'\n",
      " 'PLEURAL' 'Deep' 'Wet' 'Right Lower' 'Paroxysmal' 'Green' 'Pleural  tube'\n",
      " 'mmHg' 'In-Line Catheter Changed' 'Obstructed-support needed'\n",
      " 'High Flow Nasal Cannula' '#4' 'AVAPS' 'Continuous 1st hour'\n",
      " 'Right upper lobe' 'ONE' 'Blowby' 'Right Upper' 'Posterior Chest'\n",
      " 'Pale Yellow' '#1 &#2' 'Straw' 'Bilateral Bases' 'Rust' '# 2' 'Chair'\n",
      " 'Right lower' 'Left upper' 'Productive/Swallowed' 'Moist' 'Tight' 'One'\n",
      " 'Dressing changed' 'Clamped' 'Black' 'Single lumen' 'Long' 'PS'\n",
      " 'HEIMLICK VALVE' 'Posterior chest' 'Bronchial blocker'\n",
      " 'Right Middle Lobe' 'Squeak' 'LTV1200' 'Trendelenberg' 'Bronchial'\n",
      " 'Tenacious' 'Left Upper Lobe' 'SIMV+' '10-Circuit Changed'\n",
      " 'Inserted in Cath Lab' 'Purulent' 'Fine' 'Rhonchi'\n",
      " 'Cuff pressure checked' 'Mucoid Plug' 'Patient refused'\n",
      " 'Resuscitation bag' 'Inserted in Med Imaging' 'Left Lower Lobe' 'Left-#3'\n",
      " 'Uncuffed' 'Red Specks' 'CT#2' 'PCV w/assist' 'Frequent' 'HME Changed'\n",
      " '#1' 'Right naris' 'Venturi Mask' 'Bilateral Upper lobes' 'Refused'\n",
      " 'Continuous additional hr' 'Pressure control' 'Venti Mask' 'Barky' 'APRV'\n",
      " 'Minimal Leak' 'DISCONTINUED' 'Documentation undone' 'Pleural tube'\n",
      " 'Left Upper' 'Discontinued/Removed' 'Bright red' 'Partial obstruction'\n",
      " 'Ambu bag' 'Right Lower Lobe' 'Musical' 'Auto-infuser' 'no' '1:3.3'\n",
      " '1:3.4' '1:3' 'NO' 'NOI' '1:2' '1:5' '<4>' '(4)' '1:3.0' '1.3.4' '1:2.8'\n",
      " '1:4.5' '1:3.7' '20PPM' 'HMEe' '10 ppm' '-HME' 'HFNC 80% 20L' '<16>'\n",
      " '20ppm' '.' '15PPM' '0 ppm' '1;3.4' 'pc' '1:6' '10PPM' 'HNE' '(16)'\n",
      " '1:5.6' 'NEW' 'o' '1:4' '80/20' 'N A' '2LPM NC' 'OFF' 'prvc/simv'\n",
      " '1 :3.4' '5PPM' 'NoO' '8-']\n"
     ]
    }
   ],
   "source": [
    "import pandas as pd\n",
    "import numpy as np\n",
    "\n",
    "# Define the directory path\n",
    "edited_folder = r\"C:\\Users\\ZbzEs\\PythonExcelFiles\\EditedFiles\"\n",
    "\n",
    "# Load the respiratoryCharting_updated.csv file\n",
    "file_path = f\"{edited_folder}\\\\respiratoryCharting_split_updated.csv\"\n",
    "df = pd.read_csv(file_path)\n",
    "\n",
    "# Drop any rows where 'respchartvaluetext' is NaN (these are the rows with numeric values)\n",
    "non_numeric_values = df['respchartvaluetext'].dropna().unique()\n",
    "\n",
    "# Count the number of unique non-numeric values\n",
    "num_non_numeric = len(non_numeric_values)\n",
    "\n",
    "# Print the number of unique non-numeric values\n",
    "print(f\"Number of unique non-numeric values: {num_non_numeric}\")\n",
    "\n",
    "# If there are fewer than 250 unique non-numeric values, print them\n",
    "if num_non_numeric < 450:\n",
    "    print(\"Unique non-numeric values:\")\n",
    "    print(non_numeric_values)\n"
   ]
  },
  {
   "cell_type": "code",
   "execution_count": 20,
   "id": "2388484a",
   "metadata": {},
   "outputs": [
    {
     "name": "stderr",
     "output_type": "stream",
     "text": [
      "C:\\Users\\ZbzEs\\AppData\\Local\\Temp\\ipykernel_14144\\2849566710.py:8: DtypeWarning: Columns (6,8) have mixed types. Specify dtype option on import or set low_memory=False.\n",
      "  df = pd.read_csv(file_path)\n"
     ]
    },
    {
     "data": {
      "text/plain": [
       "'C:\\\\Users\\\\ZbzEs\\\\PythonExcelFiles\\\\EditedFiles\\\\updated_sorted_non_numeric_combinations_with_frequency.csv'"
      ]
     },
     "execution_count": 20,
     "metadata": {},
     "output_type": "execute_result"
    }
   ],
   "source": [
    "import pandas as pd\n",
    "\n",
    "# Define the directory path\n",
    "edited_folder = r\"C:\\Users\\ZbzEs\\PythonExcelFiles\\EditedFiles\"\n",
    "\n",
    "# Load the correct CSV file (replace with the actual file name)\n",
    "file_path = f\"{edited_folder}\\\\respiratoryCharting_split_updated.csv\"\n",
    "df = pd.read_csv(file_path)\n",
    "\n",
    "# Filter rows where 'respchartvaluetext' is not NaN\n",
    "non_numeric_df = df[df['respchartvaluetext'].notna()]\n",
    "\n",
    "# Group by 'respchartvaluetext', 'respchartvaluelabel', and 'respcharttypecat' and count occurrences\n",
    "combinations_df = non_numeric_df.groupby(['respchartvaluetext', 'respchartvaluelabel', 'respcharttypecat']).size().reset_index(name='frequency')\n",
    "\n",
    "# Sort by 'respcharttypecat' first (A-Z), then 'respchartvaluelabel' secondarily\n",
    "sorted_combinations_df = combinations_df.sort_values(by=['respcharttypecat', 'respchartvaluelabel'])\n",
    "\n",
    "# Save the sorted combinations with frequency to a CSV file for inspection\n",
    "output_file_path = f\"{edited_folder}\\\\updated_sorted_non_numeric_combinations_with_frequency.csv\"\n",
    "sorted_combinations_df.to_csv(output_file_path, index=False)\n",
    "\n",
    "output_file_path\n"
   ]
  },
  {
   "cell_type": "code",
   "execution_count": 21,
   "id": "ebc1a4b8",
   "metadata": {},
   "outputs": [
    {
     "name": "stderr",
     "output_type": "stream",
     "text": [
      "C:\\Users\\ZbzEs\\AppData\\Local\\Temp\\ipykernel_14144\\667057399.py:8: DtypeWarning: Columns (6,8) have mixed types. Specify dtype option on import or set low_memory=False.\n",
      "  df = pd.read_csv(file_path)\n"
     ]
    },
    {
     "data": {
      "text/plain": [
       "'C:\\\\Users\\\\ZbzEs\\\\PythonExcelFiles\\\\EditedFiles\\\\updated_sorted_numeric_combinations_with_frequency.csv'"
      ]
     },
     "execution_count": 21,
     "metadata": {},
     "output_type": "execute_result"
    }
   ],
   "source": [
    "import pandas as pd\n",
    "\n",
    "# Define the directory path\n",
    "edited_folder = r\"C:\\Users\\ZbzEs\\PythonExcelFiles\\EditedFiles\"\n",
    "\n",
    "# Load the correct CSV file (replace with the actual file name)\n",
    "file_path = f\"{edited_folder}\\\\respiratoryCharting_split_updated.csv\"\n",
    "df = pd.read_csv(file_path)\n",
    "\n",
    "# Filter rows where 'respchartvaluetext' is not NaN\n",
    "non_numeric_df = df[df['respchartvaluenum'].notna()]\n",
    "\n",
    "# Group by 'respchartvaluetext', 'respchartvaluelabel', and 'respcharttypecat' and count occurrences\n",
    "combinations_df = non_numeric_df.groupby(['respchartvaluenum', 'respchartvaluelabel', 'respcharttypecat']).size().reset_index(name='frequency')\n",
    "\n",
    "# Sort by 'respcharttypecat' first (A-Z), then 'respchartvaluelabel' secondarily\n",
    "sorted_combinations_df = combinations_df.sort_values(by=['respcharttypecat', 'respchartvaluelabel'])\n",
    "\n",
    "# Save the sorted combinations with frequency to a CSV file for inspection\n",
    "output_file_path = f\"{edited_folder}\\\\updated_sorted_numeric_combinations_with_frequency.csv\"\n",
    "sorted_combinations_df.to_csv(output_file_path, index=False)\n",
    "\n",
    "output_file_path\n"
   ]
  },
  {
   "cell_type": "code",
   "execution_count": 23,
   "id": "f051b15f",
   "metadata": {},
   "outputs": [
    {
     "name": "stderr",
     "output_type": "stream",
     "text": [
      "C:\\Users\\ZbzEs\\AppData\\Local\\Temp\\ipykernel_14144\\185815020.py:8: DtypeWarning: Columns (6,8) have mixed types. Specify dtype option on import or set low_memory=False.\n",
      "  df = pd.read_csv(file_path)\n"
     ]
    },
    {
     "name": "stdout",
     "output_type": "stream",
     "text": [
      "Saved respFlowSettings data to: C:\\Users\\ZbzEs\\PythonExcelFiles\\EditedFiles\\respiratoryCharting_updated_respFlowSettings.csv\n",
      "Saved respFlowPtVentData data to: C:\\Users\\ZbzEs\\PythonExcelFiles\\EditedFiles\\respiratoryCharting_updated_respFlowPtVentData.csv\n",
      "Saved respFlowCareData data to: C:\\Users\\ZbzEs\\PythonExcelFiles\\EditedFiles\\respiratoryCharting_updated_respFlowCareData.csv\n"
     ]
    }
   ],
   "source": [
    "import pandas as pd\n",
    "\n",
    "# Define the directory path\n",
    "edited_folder = r\"C:\\Users\\ZbzEs\\PythonExcelFiles\\EditedFiles\"\n",
    "\n",
    "# Load the correct CSV file (replace with the actual file name)\n",
    "file_path = f\"{edited_folder}\\\\respiratoryCharting_split_updated.csv\"\n",
    "df = pd.read_csv(file_path)\n",
    "\n",
    "# Define the unique categories in respcharttypecat\n",
    "categories = ['respFlowSettings', 'respFlowPtVentData', 'respFlowCareData']\n",
    "\n",
    "# Iterate through each category, filter the dataframe, and save to a separate CSV\n",
    "for category in categories:\n",
    "    category_df = df[df['respcharttypecat'] == category]\n",
    "    \n",
    "    # Define the output path for each category file with the updated naming format\n",
    "    output_file_path = f\"{edited_folder}\\\\respiratoryCharting_updated_{category}.csv\"\n",
    "    \n",
    "    # Save the filtered dataframe to a CSV\n",
    "    category_df.to_csv(output_file_path, index=False)\n",
    "    \n",
    "    print(f\"Saved {category} data to: {output_file_path}\")\n"
   ]
  },
  {
   "cell_type": "code",
   "execution_count": 27,
   "id": "4cb25721",
   "metadata": {},
   "outputs": [
    {
     "name": "stderr",
     "output_type": "stream",
     "text": [
      "C:\\Users\\ZbzEs\\AppData\\Local\\Temp\\ipykernel_14144\\1290252765.py:18: DtypeWarning: Columns (6,8) have mixed types. Specify dtype option on import or set low_memory=False.\n",
      "  df = pd.read_csv(file_path)\n"
     ]
    },
    {
     "name": "stdout",
     "output_type": "stream",
     "text": [
      "\n",
      "Unique values in 'respchartvaluelabel' for respFlowSettings:\n",
      "['FiO2' 'Vent Rate' 'Tidal Volume (set)' 'TV/kg IBW' 'PEEP'\n",
      " 'Pressure Support' 'LPM O2' 'Pressure Control' 'PEEP/CPAP' 'CPAP'\n",
      " 'Flow Sensitivity' 'Peak Flow' 'Pressure to Trigger PS'\n",
      " '5. ARDS Eval (M or DNM)' '4. RSBI (RR/Vt)']\n"
     ]
    },
    {
     "name": "stderr",
     "output_type": "stream",
     "text": [
      "C:\\Users\\ZbzEs\\AppData\\Local\\Temp\\ipykernel_14144\\1290252765.py:18: DtypeWarning: Columns (6) have mixed types. Specify dtype option on import or set low_memory=False.\n",
      "  df = pd.read_csv(file_path)\n"
     ]
    },
    {
     "name": "stdout",
     "output_type": "stream",
     "text": [
      "\n",
      "Unique values in 'respchartvaluelabel' for respFlowPtVentData:\n",
      "['Plateau Pressure' 'Total RR' 'Peak Insp. Pressure' 'RR (patient)'\n",
      " 'Exhaled TV (patient)' 'Mean Airway Pressure' 'Exhaled MV' 'SaO2'\n",
      " 'Compliance' 'Exhaled TV (machine)' 'Humidifier Temp' 'HR' 'EtCO2'\n",
      " 'ETCO2' 'A1: High Exhaled Vt' 'B3: Est Mask Leak' 'B1: IPAP' 'B2: EPAP']\n"
     ]
    },
    {
     "name": "stderr",
     "output_type": "stream",
     "text": [
      "C:\\Users\\ZbzEs\\AppData\\Local\\Temp\\ipykernel_14144\\1290252765.py:18: DtypeWarning: Columns (6,8) have mixed types. Specify dtype option on import or set low_memory=False.\n",
      "  df = pd.read_csv(file_path)\n"
     ]
    },
    {
     "name": "stdout",
     "output_type": "stream",
     "text": [
      "\n",
      "Unique values in 'respchartvaluelabel' for respFlowCareData:\n",
      "['RT Vent On/Off' 'Tidal Volume Observed (VT)'\n",
      " 'Endotracheal Position at Lip' 'Endotracheal Tube Placement' 'Tube Size'\n",
      " 'Ventilator Heater Temperature' 'FiO2' 'Head of Bed Elevation'\n",
      " 'Head of Bed Elevated' 'Minute Volume, Spontaneous'\n",
      " 'Inspiratory Pressure, Set' 'Inspiratory Flow Rate'\n",
      " 'Tidal Volume, Delivered' 'Mean Airway Pressure' 'Plateau Pressure'\n",
      " 'Resp Rate Total' 'Exhaled Vt' 'Measured Ve'\n",
      " 'Wake up assessment performed' 'Wake up assessment interventions'\n",
      " 'WUA Patient Response/RASS Score' 'Sedation outcome' 'Spont TV'\n",
      " 'SBT Method' 'O2 Device' 'FIO2 (%)' 'Total RSBI' 'Insp Flow (l/min)'\n",
      " 'RETIRED O2 Device' 'Secured at-ETT ' 'PULSE OX RESULTS VT'\n",
      " 'PD I:E RATIO' 'VS RESP RATE' 'AIRWAY TEMPERATURE' 'HR Post' 'HR'\n",
      " 'O2 Percentage' 'f Total' 'Set Vt (Servo,LTV)' 'Set Vt (Drager)' 'DABP'\n",
      " 'Skin Integrity' 'EPAP' 'IPAP' 'Bipap Delivery Mode' 'Cough Description'\n",
      " 'Breath Sounds' 'Lung Sound Location' 'Lung Sound Location Modifier'\n",
      " 'Patient Leak' 'Non-invasive Ventilation Mode'\n",
      " 'Lung Sound Respiratory Phase' 'Rise'\n",
      " 'Mechanical Ventilator High Tidal Volume Alarm' 'V60 Mask Leak Value'\n",
      " 'Oxygen Delivery Method' 'Oxygen Flow Rate'\n",
      " 'Mechanical Ventilator Compliance'\n",
      " 'Set Fraction of Inspired Oxygen (FIO2)'\n",
      " 'Endotracheal Tube Placement Checked' 'Heat Moisture Exchanger'\n",
      " 'Autoflow' 'Minute Volume Leak' 'Mechanical Ventilation Slope'\n",
      " 'Respiratory Phase' 'Mechanical Ventilator Resistance' 'Sputum Amount'\n",
      " 'Sputum Color' 'Sputum Consistency' 'Automatic Tube Compensation'\n",
      " 'Flowtrigger' 'Sigh' 'Ventilator Population' 'Trapped Volume'\n",
      " 'Endotracheal Tube Moved to' 'HOB Elevated 30-45 Degrees at All Times'\n",
      " 'DVT Prophylaxis' 'Oral Care Complete Every 2 Hours'\n",
      " 'ETT Peptic Ulcer Prophylaxis' 'ETT Sedation Vacation'\n",
      " 'Weaning Assessment Criteria Collaboration' 'Mechanical Ventilator Mode'\n",
      " 'CCU Ventilator Weaning Protocol Started' 'Sedation Wean'\n",
      " 'Chest Tube Insertion Status' 'Oxygen Delivery Status'\n",
      " 'End Tidal CO2 Status' 'Respiratory Device' 'Type of Treatment'\n",
      " 'Auto Release' 'Apnea Ventilation' 'Volume Guarantee' 'Ventilator Type'\n",
      " 'Ventilator Support Mode' 'Trigger' 'Base Flow' 'Backup Vent Active'\n",
      " 'Peak Pressure' 'RSBI' 'Static Compliance' 'Humidity'\n",
      " 'ET Tube Repositioned' 'Secured by' 'Position at lip' 'Patient Position'\n",
      " 'Suctioned patient' 'Ventilator Checks' 'Spontaneous Respiratory Rate'\n",
      " 'Unable to Obtain PEEPi and Vtrap' 'Postion at Lip' 'Care'\n",
      " 'Sedation Scoring Ventilation Depth' 'Trachestomy Tube Size'\n",
      " 'Tube Feedings on Hold' 'Chest Tube Position' 'Chest Tube Location'\n",
      " 'Chest Tube Label' 'Airway Attachments' 'Tracheostomy Type'\n",
      " 'Unit of Measure' 'Chest Tube Drainage Color' 'Chest Tube Care'\n",
      " 'Chest Tube Description/Status' 'Chest Tube Suction Type'\n",
      " 'Chest Tube Suction Amount' 'Chest Tube Size' 'NIV Setting EPAP'\n",
      " 'Adult Con Setting Set RR' 'Adult Con Setting Set Vt'\n",
      " 'Adult Con Pt/Vent Spont Rate' 'Adult Con Pt/Vent MinuteVentil'\n",
      " 'Adult Con Pt/Vent InspiratorTV' 'NIV Pt/Vent Spont_Rate'\n",
      " 'Adult Con Alarms Hi Press Alarm' 'Adult Con Alarms Circuit T (Celsius)'\n",
      " 'NIV Alarms Hi Press Alarm_5' 'NIV Alarms Low Press Alarm'\n",
      " 'Adult Con Pt/Vent IBW in Kg' 'Vti' 'MVe' 'Minute Ventilation Set(L/min)'\n",
      " 'Adult Con Pt/Vent ETCO2' 'PS above PEEP' 'RR Spont' 'Insp Cycle Off (%)'\n",
      " 'Adult Con Pt/Vent SpO2' 'PS' 'Adult Con Setting Heliox_'\n",
      " 'Adult Con Setting INO' 'Insp Time (%)' 'Adult Con Alarms Backup PC'\n",
      " 'Adult Con Alarms Backup RR' 'Adult Con Alarms Backup I:E'\n",
      " 'Adult Con Setting Spont Exp Vt' 'NIV Pt/Vent Spont_TidalV'\n",
      " 'Adult Con Pt/Vent ETCO2_' 'Backup RR (Set)' 'Backup IInsp Time (sec)'\n",
      " 'NIV Pt/Vent SpO2_5' 'NIV Setting Set_RR' 'Rise T' 'Vt Spontaneous (mL)'\n",
      " 'NIV Setting Total RR_5' 'NIV Setting Spont Exp Vt_5' 'NIV Setting Leak_']\n"
     ]
    }
   ],
   "source": [
    "import pandas as pd\n",
    "\n",
    "# Define the directory path for the split files\n",
    "edited_folder = r\"C:\\Users\\ZbzEs\\PythonExcelFiles\\EditedFiles\"\n",
    "\n",
    "# Define the files for each category after splitting\n",
    "category_files = {\n",
    "    'respFlowSettings': 'respiratoryCharting_updated_respFlowSettings.csv',\n",
    "    'respFlowPtVentData': 'respiratoryCharting_updated_respFlowPtVentData.csv',\n",
    "    'respFlowCareData': 'respiratoryCharting_updated_respFlowCareData.csv'\n",
    "}\n",
    "\n",
    "# Iterate through each file, load the data, and print the unique values in 'respchartvaluelabel'\n",
    "for category, file_name in category_files.items():\n",
    "    file_path = f\"{edited_folder}\\\\{file_name}\"\n",
    "    \n",
    "    # Load the data for the current file\n",
    "    df = pd.read_csv(file_path)\n",
    "    \n",
    "    # Get the unique values in 'respchartvaluelabel'\n",
    "    unique_labels = df['respchartvaluelabel'].unique()\n",
    "    \n",
    "    print(f\"\\nUnique values in 'respchartvaluelabel' for {category}:\")\n",
    "    print(unique_labels)\n",
    "\n"
   ]
  },
  {
   "cell_type": "code",
   "execution_count": 30,
   "id": "e7401288",
   "metadata": {},
   "outputs": [
    {
     "name": "stderr",
     "output_type": "stream",
     "text": [
      "C:\\Users\\ZbzEs\\AppData\\Local\\Temp\\ipykernel_14144\\170297934.py:21: DtypeWarning: Columns (6,8) have mixed types. Specify dtype option on import or set low_memory=False.\n",
      "  df = pd.read_csv(file_path)\n",
      "C:\\Users\\ZbzEs\\AppData\\Local\\Temp\\ipykernel_14144\\170297934.py:21: DtypeWarning: Columns (6) have mixed types. Specify dtype option on import or set low_memory=False.\n",
      "  df = pd.read_csv(file_path)\n",
      "C:\\Users\\ZbzEs\\AppData\\Local\\Temp\\ipykernel_14144\\170297934.py:21: DtypeWarning: Columns (6,8) have mixed types. Specify dtype option on import or set low_memory=False.\n",
      "  df = pd.read_csv(file_path)\n"
     ]
    },
    {
     "name": "stdout",
     "output_type": "stream",
     "text": [
      "CSV with unique values and frequencies saved to: C:\\Users\\ZbzEs\\PythonExcelFiles\\EditedFiles\\unique_respchartvaluelabel_frequencies.csv\n"
     ]
    }
   ],
   "source": [
    "import pandas as pd\n",
    "\n",
    "# Define the directory path for the split files\n",
    "edited_folder = r\"C:\\Users\\ZbzEs\\PythonExcelFiles\\EditedFiles\"\n",
    "\n",
    "# Define the files for each category after splitting\n",
    "category_files = {\n",
    "    'respFlowSettings': 'respiratoryCharting_updated_respFlowSettings.csv',\n",
    "    'respFlowPtVentData': 'respiratoryCharting_updated_respFlowPtVentData.csv',\n",
    "    'respFlowCareData': 'respiratoryCharting_updated_respFlowCareData.csv'\n",
    "}\n",
    "\n",
    "# Create a list to hold the data for each category\n",
    "result_data = []\n",
    "\n",
    "# Iterate through each file, load the data, and count the frequency of unique values in 'respchartvaluelabel'\n",
    "for category, file_name in category_files.items():\n",
    "    file_path = f\"{edited_folder}\\\\{file_name}\"\n",
    "    \n",
    "    # Load the data for the current file\n",
    "    df = pd.read_csv(file_path)\n",
    "    \n",
    "    # Get the unique values and their frequencies in 'respchartvaluelabel'\n",
    "    value_counts = df['respchartvaluelabel'].value_counts().reset_index()\n",
    "    value_counts.columns = ['respchartvaluelabel', 'frequency']\n",
    "    \n",
    "    # Add a column to specify the category\n",
    "    value_counts['category'] = category\n",
    "    \n",
    "    # Append the result to the list\n",
    "    result_data.append(value_counts)\n",
    "\n",
    "# Concatenate all the result data into a single dataframe\n",
    "final_df = pd.concat(result_data)\n",
    "\n",
    "# Save the final dataframe to a new CSV file\n",
    "output_file_path = f\"{edited_folder}\\\\unique_respchartvaluelabel_frequencies.csv\"\n",
    "final_df.to_csv(output_file_path, index=False)\n",
    "\n",
    "print(f\"CSV with unique values and frequencies saved to: {output_file_path}\")\n"
   ]
  },
  {
   "cell_type": "code",
   "execution_count": 38,
   "id": "0ec36881",
   "metadata": {},
   "outputs": [
    {
     "name": "stderr",
     "output_type": "stream",
     "text": [
      "C:\\Users\\ZbzEs\\AppData\\Local\\Temp\\ipykernel_14144\\3683367891.py:20: DtypeWarning: Columns (6,8) have mixed types. Specify dtype option on import or set low_memory=False.\n",
      "  df = pd.read_csv(file_name)\n"
     ]
    },
    {
     "name": "stdout",
     "output_type": "stream",
     "text": [
      "Updated file saved as: C:\\Users\\ZbzEs\\PythonExcelFiles\\EditedFiles\\respiratoryCharting_updated_respFlowSettings_with_normalized_column.csv\n"
     ]
    },
    {
     "name": "stderr",
     "output_type": "stream",
     "text": [
      "C:\\Users\\ZbzEs\\AppData\\Local\\Temp\\ipykernel_14144\\3683367891.py:20: DtypeWarning: Columns (6) have mixed types. Specify dtype option on import or set low_memory=False.\n",
      "  df = pd.read_csv(file_name)\n"
     ]
    },
    {
     "name": "stdout",
     "output_type": "stream",
     "text": [
      "Updated file saved as: C:\\Users\\ZbzEs\\PythonExcelFiles\\EditedFiles\\respiratoryCharting_updated_respFlowPtVentData_with_normalized_column.csv\n"
     ]
    },
    {
     "name": "stderr",
     "output_type": "stream",
     "text": [
      "C:\\Users\\ZbzEs\\AppData\\Local\\Temp\\ipykernel_14144\\3683367891.py:20: DtypeWarning: Columns (6,8) have mixed types. Specify dtype option on import or set low_memory=False.\n",
      "  df = pd.read_csv(file_name)\n"
     ]
    },
    {
     "name": "stdout",
     "output_type": "stream",
     "text": [
      "Updated file saved as: C:\\Users\\ZbzEs\\PythonExcelFiles\\EditedFiles\\respiratoryCharting_updated_respFlowCareData_with_normalized_column.csv\n"
     ]
    }
   ],
   "source": [
    "import pandas as pd\n",
    "\n",
    "# Load the data dictionary that contains the updated labels\n",
    "data_dict_path = r'C:\\Users\\ZbzEs\\PythonExcelFiles\\EditedFiles\\unique_respchartvaluelabel_frequencies_updated.csv'\n",
    "data_dict_df = pd.read_csv(data_dict_path)\n",
    "\n",
    "# Create a dictionary mapping of original labels to the new normalized labels in the 'groupedrespchartvaluelabel' column\n",
    "label_mapping = dict(zip(data_dict_df['respchartvaluelabel'], data_dict_df['groupedrespchartvaluelabel']))\n",
    "\n",
    "# Define the category files with their correct local paths\n",
    "category_files = {\n",
    "    'respFlowSettings': r'C:\\Users\\ZbzEs\\PythonExcelFiles\\EditedFiles\\respiratoryCharting_updated_respFlowSettings.csv',\n",
    "    'respFlowPtVentData': r'C:\\Users\\ZbzEs\\PythonExcelFiles\\EditedFiles\\respiratoryCharting_updated_respFlowPtVentData.csv',\n",
    "    'respFlowCareData': r'C:\\Users\\ZbzEs\\PythonExcelFiles\\EditedFiles\\respiratoryCharting_updated_respFlowCareData.csv'\n",
    "}\n",
    "\n",
    "# Function to add the normalized column to each category file\n",
    "def add_normalized_column(file_name):\n",
    "    # Load the category file\n",
    "    df = pd.read_csv(file_name)\n",
    "    \n",
    "    # Add a new column for the normalized values\n",
    "    # If a mapping exists, replace it; otherwise, keep the original value\n",
    "    df['respchartvaluelabel_normalized'] = df['respchartvaluelabel'].apply(lambda x: label_mapping.get(x, x))\n",
    "    \n",
    "    # Save the updated dataframe to a new CSV\n",
    "    output_file_name = file_name.replace('.csv', '_with_normalized_column.csv')\n",
    "    df.to_csv(output_file_name, index=False)\n",
    "    \n",
    "    print(f\"Updated file saved as: {output_file_name}\")\n",
    "\n",
    "# Apply the function to each category file\n",
    "for category, file_name in category_files.items():\n",
    "    add_normalized_column(file_name)\n"
   ]
  },
  {
   "cell_type": "code",
   "execution_count": 39,
   "id": "635cfe46",
   "metadata": {},
   "outputs": [
    {
     "name": "stderr",
     "output_type": "stream",
     "text": [
      "C:\\Users\\ZbzEs\\AppData\\Local\\Temp\\ipykernel_14144\\4186214425.py:13: DtypeWarning: Columns (6,8) have mixed types. Specify dtype option on import or set low_memory=False.\n",
      "  df = pd.read_csv(file_name)\n"
     ]
    },
    {
     "name": "stdout",
     "output_type": "stream",
     "text": [
      "Category: respFlowSettings\n",
      "Total rows: 9668855\n",
      "Null values in 'respchartvaluelabel_normalized': 848109\n",
      "Percentage of null values: 8.77%\n",
      "\n"
     ]
    },
    {
     "name": "stderr",
     "output_type": "stream",
     "text": [
      "C:\\Users\\ZbzEs\\AppData\\Local\\Temp\\ipykernel_14144\\4186214425.py:13: DtypeWarning: Columns (6) have mixed types. Specify dtype option on import or set low_memory=False.\n",
      "  df = pd.read_csv(file_name)\n"
     ]
    },
    {
     "name": "stdout",
     "output_type": "stream",
     "text": [
      "Category: respFlowPtVentData\n",
      "Total rows: 7741378\n",
      "Null values in 'respchartvaluelabel_normalized': 393950\n",
      "Percentage of null values: 5.09%\n",
      "\n"
     ]
    },
    {
     "name": "stderr",
     "output_type": "stream",
     "text": [
      "C:\\Users\\ZbzEs\\AppData\\Local\\Temp\\ipykernel_14144\\4186214425.py:13: DtypeWarning: Columns (6,8,9) have mixed types. Specify dtype option on import or set low_memory=False.\n",
      "  df = pd.read_csv(file_name)\n"
     ]
    },
    {
     "name": "stdout",
     "output_type": "stream",
     "text": [
      "Category: respFlowCareData\n",
      "Total rows: 2757943\n",
      "Null values in 'respchartvaluelabel_normalized': 878751\n",
      "Percentage of null values: 31.86%\n",
      "\n"
     ]
    }
   ],
   "source": [
    "import pandas as pd\n",
    "\n",
    "# Define the file paths for each of the updated category files\n",
    "category_files = {\n",
    "    'respFlowSettings': r'C:\\Users\\ZbzEs\\PythonExcelFiles\\EditedFiles\\respiratoryCharting_updated_respFlowSettings_with_normalized_column.csv',\n",
    "    'respFlowPtVentData': r'C:\\Users\\ZbzEs\\PythonExcelFiles\\EditedFiles\\respiratoryCharting_updated_respFlowPtVentData_with_normalized_column.csv',\n",
    "    'respFlowCareData': r'C:\\Users\\ZbzEs\\PythonExcelFiles\\EditedFiles\\respiratoryCharting_updated_respFlowCareData_with_normalized_column.csv'\n",
    "}\n",
    "\n",
    "# Iterate through each category file and inspect how many null values are in the new 'respchartvaluelabel_normalized' column\n",
    "for category, file_name in category_files.items():\n",
    "    # Load the category file\n",
    "    df = pd.read_csv(file_name)\n",
    "    \n",
    "    # Count the number of null values in the 'respchartvaluelabel_normalized' column\n",
    "    null_count = df['respchartvaluelabel_normalized'].isna().sum()\n",
    "    \n",
    "    # Print the result\n",
    "    total_rows = len(df)\n",
    "    print(f\"Category: {category}\")\n",
    "    print(f\"Total rows: {total_rows}\")\n",
    "    print(f\"Null values in 'respchartvaluelabel_normalized': {null_count}\")\n",
    "    print(f\"Percentage of null values: {null_count / total_rows * 100:.2f}%\\n\")\n",
    "\n"
   ]
  },
  {
   "cell_type": "code",
   "execution_count": 40,
   "id": "d3d5892a",
   "metadata": {},
   "outputs": [
    {
     "name": "stderr",
     "output_type": "stream",
     "text": [
      "C:\\Users\\ZbzEs\\AppData\\Local\\Temp\\ipykernel_14144\\3565821015.py:13: DtypeWarning: Columns (6,8) have mixed types. Specify dtype option on import or set low_memory=False.\n",
      "  df = pd.read_csv(file_name)\n"
     ]
    },
    {
     "name": "stdout",
     "output_type": "stream",
     "text": [
      "\n",
      "Category: respFlowSettings\n",
      "Number of missing mappings: 5\n",
      "Labels with no mapping and their occurrences:\n",
      "Pressure Support           371161\n",
      "Flow Sensitivity           262501\n",
      "Peak Flow                  128859\n",
      "Pressure Control            83246\n",
      "5. ARDS Eval (M or DNM)      2342\n",
      "Name: respchartvaluelabel, dtype: int64\n"
     ]
    },
    {
     "name": "stderr",
     "output_type": "stream",
     "text": [
      "C:\\Users\\ZbzEs\\AppData\\Local\\Temp\\ipykernel_14144\\3565821015.py:13: DtypeWarning: Columns (6) have mixed types. Specify dtype option on import or set low_memory=False.\n",
      "  df = pd.read_csv(file_name)\n"
     ]
    },
    {
     "name": "stdout",
     "output_type": "stream",
     "text": [
      "\n",
      "Category: respFlowPtVentData\n",
      "Number of missing mappings: 2\n",
      "Labels with no mapping and their occurrences:\n",
      "SaO2                   380879\n",
      "A1: High Exhaled Vt     13071\n",
      "Name: respchartvaluelabel, dtype: int64\n"
     ]
    },
    {
     "name": "stderr",
     "output_type": "stream",
     "text": [
      "C:\\Users\\ZbzEs\\AppData\\Local\\Temp\\ipykernel_14144\\3565821015.py:13: DtypeWarning: Columns (6,8,9) have mixed types. Specify dtype option on import or set low_memory=False.\n",
      "  df = pd.read_csv(file_name)\n"
     ]
    },
    {
     "name": "stdout",
     "output_type": "stream",
     "text": [
      "\n",
      "Category: respFlowCareData\n",
      "Number of missing mappings: 101\n",
      "Labels with no mapping and their occurrences:\n",
      "Head of Bed Elevation                 254591\n",
      "RT Vent On/Off                         60101\n",
      "Vti                                    54837\n",
      "Lung Sound Location                    23577\n",
      "Lung Sound Location Modifier           21462\n",
      "                                       ...  \n",
      "Lung Sound Respiratory Phase            1267\n",
      "Sedation Scoring Ventilation Depth      1253\n",
      "Wake up assessment performed            1203\n",
      "Sedation outcome                        1058\n",
      "Postion at Lip                          1041\n",
      "Name: respchartvaluelabel, Length: 101, dtype: int64\n"
     ]
    }
   ],
   "source": [
    "import pandas as pd\n",
    "\n",
    "# Define the category files with their correct local paths\n",
    "category_files = {\n",
    "    'respFlowSettings': r'C:\\Users\\ZbzEs\\PythonExcelFiles\\EditedFiles\\respiratoryCharting_updated_respFlowSettings_with_normalized_column.csv',\n",
    "    'respFlowPtVentData': r'C:\\Users\\ZbzEs\\PythonExcelFiles\\EditedFiles\\respiratoryCharting_updated_respFlowPtVentData_with_normalized_column.csv',\n",
    "    'respFlowCareData': r'C:\\Users\\ZbzEs\\PythonExcelFiles\\EditedFiles\\respiratoryCharting_updated_respFlowCareData_with_normalized_column.csv'\n",
    "}\n",
    "\n",
    "# Iterate through each category file and find the rows where 'respchartvaluelabel_normalized' is null\n",
    "for category, file_name in category_files.items():\n",
    "    # Load the category file\n",
    "    df = pd.read_csv(file_name)\n",
    "    \n",
    "    # Filter rows where 'respchartvaluelabel_normalized' is null\n",
    "    missing_mapped_values = df[df['respchartvaluelabel_normalized'].isna()]['respchartvaluelabel']\n",
    "    \n",
    "    # Get the unique labels that are missing mappings and count their occurrences\n",
    "    missing_label_counts = missing_mapped_values.value_counts()\n",
    "    \n",
    "    # Print the result\n",
    "    print(f\"\\nCategory: {category}\")\n",
    "    print(f\"Number of missing mappings: {len(missing_label_counts)}\")\n",
    "    print(\"Labels with no mapping and their occurrences:\")\n",
    "    print(missing_label_counts)\n"
   ]
  },
  {
   "cell_type": "code",
   "execution_count": null,
   "id": "c657945d",
   "metadata": {},
   "outputs": [],
   "source": []
  }
 ],
 "metadata": {
  "kernelspec": {
   "display_name": "Python 3 (ipykernel)",
   "language": "python",
   "name": "python3"
  },
  "language_info": {
   "codemirror_mode": {
    "name": "ipython",
    "version": 3
   },
   "file_extension": ".py",
   "mimetype": "text/x-python",
   "name": "python",
   "nbconvert_exporter": "python",
   "pygments_lexer": "ipython3",
   "version": "3.10.9"
  }
 },
 "nbformat": 4,
 "nbformat_minor": 5
}
